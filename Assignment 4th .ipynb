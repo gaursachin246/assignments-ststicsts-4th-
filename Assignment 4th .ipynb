{
 "cells": [
  {
   "cell_type": "code",
   "execution_count": 1,
   "id": "e1a83e7c-d70c-492e-99e5-f50a6c5f249a",
   "metadata": {},
   "outputs": [],
   "source": [
    "#### Q1: What is the difference between a t-test and a z-test? Provide an example scenario where you would use each type of test.\n",
    "\n",
    "##z-test:\n",
    "\n",
    "#Used when the sample size is large (typically n>30).\n",
    "#Assumes that the population variance is known.\n",
    "#Based on the standard normal distribution (z-distribution).\n",
    "\n",
    "\n",
    "#t-test:\n",
    "# Used when the sample size is small (typically n<=30).\n",
    "\n",
    "#Does not assume that the population variance is known; instead, it uses the sample variance.\n",
    "#Based on the t-distribution, which adjusts for the additional uncertainty due to estimating the population variance from a small sample."
   ]
  },
  {
   "cell_type": "code",
   "execution_count": 2,
   "id": "8d81a7db-2dab-44e7-8b43-cbabcf7b29fa",
   "metadata": {},
   "outputs": [],
   "source": [
    "#### Q2: Differentiate between one-tailed and two-tailed tests.\n",
    "\n",
    "#1. One-Tailed Test\n",
    "#Purpose: To test whether a sample statistic is significantly greater than or less than a hypothesized value in only one direction.\n",
    "\n",
    "#Null Hypothesis (H₀): The sample statistic is equal to the hypothesized value.\n",
    "#Alternative Hypothesis (H₁): The sample statistic is either greater than or less than the hypothesized value (but not both).\n",
    "\n",
    "\n",
    "#2. Two-Tailed Test\n",
    "#Purpose: To test whether a sample statistic is significantly different from the hypothesized value, without specifying the direction of the difference.\n",
    "\n",
    "#Null Hypothesis (H₀): The sample statistic is equal to the hypothesized value.\n",
    "#Alternative Hypothesis (H₁): The sample statistic is different from the hypothesized value (either greater than or less than)."
   ]
  },
  {
   "cell_type": "code",
   "execution_count": 3,
   "id": "23ea4964-3f31-4f0c-98a5-0a3be1cade8d",
   "metadata": {},
   "outputs": [],
   "source": [
    "# Q3: Explain the concept of Type 1 and Type 2 errors in hypothesis testing. Provide an example scenario for each of type error\n",
    "\n",
    "# Type 1 Error: Incorrectly rejecting a true null hypothesis (false positive). Example: A test indicates a patient has a disease when they do not.\n",
    "# Type 2 Error: Failing to reject a false null hypothesis (false negative). Example: A test fails to detect a disease in a patient who does have it."
   ]
  },
  {
   "cell_type": "code",
   "execution_count": 4,
   "id": "a20abeaf-c850-4f43-a6b2-95daeab1aa1b",
   "metadata": {},
   "outputs": [],
   "source": [
    "####Q4: Explain Bayes's theorem with an example.\n",
    "##Bayes's Theorem is a fundamental concept in probability theory and statistics that describes how to update the probability of a hypothesis based on new evidence. It combines prior knowledge with new data to provide a revised probability.\n",
    "## exam - Scenario: You are testing for a rare disease in a population. Let's use Bayes's Theorem to find the probability of having the disease given a positive test result.\n"
   ]
  },
  {
   "cell_type": "code",
   "execution_count": 5,
   "id": "0ce330f5-2737-436e-b956-6296c9596bc3",
   "metadata": {},
   "outputs": [],
   "source": [
    "#### Q5: What is a confidence interval? How to calculate the confidence interval, explain with an example.\n",
    "##Confidence Interval\n",
    "#A confidence interval is a range of values that is used to estimate a population parameter with a certain degree of confidence. It provides an interval within which we expect the true population parameter to fall, based on the sample data.\n"
   ]
  },
  {
   "cell_type": "code",
   "execution_count": 6,
   "id": "b3a9c95f-c17e-4a0a-b930-703959993e52",
   "metadata": {},
   "outputs": [],
   "source": [
    "#### Q6. Use Bayes' Theorem to calculate the probability of an event occurring given prior knowledge of the event's probability and new evidence. Provide a sample problem and solution.\n",
    "\n",
    "##Sample Problem\n",
    "\n",
    "\n",
    "\n",
    "### A company has a history of hiring candidates, where 60% of them are female (P(Female) = 0.6). During the hiring process, a candidate is selected, and it's observed that they have a master's degree (P(Master's|Female) = 0.7 and P(Master's|Male) = 0.3). What is the probability that the selected candidate is female given that they have a master's degree?\n",
    "\n",
    "#Solution:\n",
    "\n",
    "#Prior probability: P(Female) = 0.6\n",
    "#New evidence: P(Master's|Female) = 0.7 and P(Master's|Male) = 0.3\n",
    "\n",
    "#Bayes' Theorem:\n",
    "\n",
    "#P(Female|Master's) = P(Master's|Female) × P(Female) / P(Master's)\n",
    "\n",
    "#Step 1: Calculate P(Master's)\n",
    "\n",
    "#P(Master's) = P(Master's|Female) × P(Female) + P(Master's|Male) × P(Male)\n",
    "#= 0.7 × 0.6 + 0.3 × 0.4\n",
    "#= 0.42 + 0.12\n",
    "#= 0.54\n",
    "\n",
    "#Step 2: Calculate P(Female|Master's)\n",
    "\n",
    "#P(Female|Master's) = P(Master's|Female) × P(Female) / P(Master's)\n",
    "#= 0.7 × 0.6 / 0.54\n",
    "#= 0.7778\n",
    "\n",
    "#Result: The probability that the selected candidate is female given that they have a master's degree is approximately 77.78%.\n",
    "\n",
    "#This result shows that with new evidence (having a maste\n"
   ]
  },
  {
   "cell_type": "code",
   "execution_count": 7,
   "id": "e80bfdb6-6302-4418-8a70-60669b33425d",
   "metadata": {},
   "outputs": [],
   "source": [
    "####Q7. Calculate the 95% confidence interval for a sample of data with a mean of 50 and a standard deviation of 5. Interpret the results.\n",
    "\n",
    "##To calculate the 95% confidence interval, we can use the following formula:\n",
    "\n",
    "#CI = x̄ ± (Z × σ / √n)\n",
    "\n",
    "#where:\n",
    "#x̄ = sample mean = 50\n",
    "#σ = sample standard deviation = 5\n",
    "#n = sample size (not given, so we'll assume a large sample size)\n",
    "#Z = Z-score for 95% confidence level = 1.96\n",
    "\n",
    "#Since the sample size is not given, we'll assume a large sample size and use the standard normal distribution.\n",
    "\n",
    "#CI = 50 ± (1.96 × 5 / √n)\n",
    "\n",
    "#To simplify, let's assume a large sample size (n > 30), so we can ignore the √n term.\n",
    "\n",
    "#CI ≈ 50 ± (1.96 × 5)\n",
    "#CI ≈ 50 ± 9.8\n",
    "#CI ≈ (40.2, 59.8)\n",
    "\n",
    "#Results:\n",
    "\n",
    "#The 95% confidence interval is approximately (40.2, 59.8).\n",
    "\n",
    "#Interpretation:\n",
    "\n",
    "#We can be 95% confident that the true population mean lies within the interval (40.2, 59.8). This means that if we were to repeat the sampling process many times, the calculated mean would fall within this interval 95% of the time.\n",
    "\n",
    "#In other words, there is a 95% probability that the true population mean is between 40.2 and 59.8.\n",
    "\n",
    "#Note: The wider the interval, the less precise the estimate. A smaller interval would indicate a more precise estimate.\n"
   ]
  },
  {
   "cell_type": "code",
   "execution_count": 8,
   "id": "48efeceb-17b4-41eb-94f9-390fdfd3f462",
   "metadata": {},
   "outputs": [],
   "source": [
    "### Q.8 The margin of error (ME) in a confidence interval is the maximum amount by which the sample mean may differ from the true population mean. It's calculated as:\n",
    "\n",
    "\n",
    "\n",
    "#The margin of error (ME) in a confidence interval is the maximum amount by which the sample mean may differ from the true population mean. It's calculated as:\n",
    "\n",
    "#ME = Z × σ / √n\n",
    "\n",
    "#where:\n",
    "#Z = Z-score for the desired confidence level\n",
    "#σ = population standard deviation\n",
    "#n = sample size\n",
    "\n",
    "#A larger sample size (n) reduces the margin of error, making the estimate more precise.\n",
    "\n",
    "#Example:\n",
    "\n",
    "#Suppose we want to estimate the average height of adults with a 95% confidence level. With a sample size of 100, the margin of error might be ±2 inches. Increasing the sample size to 1,000 would reduce the margin of error to ±0.6 inches, making the estimate more precise."
   ]
  },
  {
   "cell_type": "code",
   "execution_count": 9,
   "id": "da02e773-4e15-45e6-9e8a-cbfedb5a9f76",
   "metadata": {},
   "outputs": [],
   "source": [
    "### Q9. Calculate the z-score for a data point with a value of 75, a population mean of 70, and a population standard deviation of 5. Interpret the results.\n",
    "\n",
    "## To calculate the z-score, we use the formula:\n",
    "\n",
    "#z = (X - μ) / σ\n",
    "\n",
    "#where:\n",
    "#X = data point value = 75\n",
    "#μ = population mean = 70\n",
    "#σ = population standard deviation = 5\n",
    "\n",
    "#z = (75 - 70) / 5\n",
    "#z = 5 / 5\n",
    "#z = 1\n",
    "\n"
   ]
  },
  {
   "cell_type": "code",
   "execution_count": 10,
   "id": "d170b98a-52fc-4a2d-b652-8dbd03758123",
   "metadata": {},
   "outputs": [],
   "source": [
    "###Q10. In a study of the effectiveness of a new weight loss drug, a sample of 50 participants lost an average of 6 pounds with a standard deviation of 2.5 pounds. Conduct a hypothesis test to determine if the drug is significantly effective at a 95% confidence level using a t-test.\n",
    "##Null hypothesis: μ ≤ 0 (the drug is not effective)\n",
    "#Alternative hypothesis: μ > 0 (the drug is effective)\n",
    "#t-statistic: t = (6 - 0) / (2.5 / √50) = 12\n",
    "#Degrees of freedom: 49\n",
    "#P-value: < 0.001\n",
    "#Reject the null hypothesis at a 95% confidence level. The drug is significantly effective.\n",
    "\n"
   ]
  },
  {
   "cell_type": "code",
   "execution_count": 11,
   "id": "d67a870d-e6e4-49f7-be76-f9ee41429733",
   "metadata": {},
   "outputs": [],
   "source": [
    "### Q11. In a survey of 500 people, 65% reported being satisfied with their current job. Calculate the 95% confidence interval for the true proportion of people who are satisfied with their job.\n",
    "\n",
    "##Sample proportion: p̂ = 0.65\n",
    "#Standard error: SE = √(p̂(1-p̂)/500) = 0.021\n",
    "#Margin of error: ME = 1.96 × SE = 0.041\n",
    "# 95% CI: (0.609, 0.691)\n",
    "\n"
   ]
  },
  {
   "cell_type": "code",
   "execution_count": null,
   "id": "9a895943-2e27-49ff-85dd-6da85548d947",
   "metadata": {},
   "outputs": [],
   "source": [
    "####Q14. In a study of the effects of caffeine on reaction time, a sample of 30 participants had an average\n",
    "reaction time of 0.25 seconds with a standard deviation of 0.05 seconds. Conduct a hypothesis test to\n",
    "determine if the caffeine has a significant effect on reaction time at a 90% confidence level using a t-test."
   ]
  }
 ],
 "metadata": {
  "kernelspec": {
   "display_name": "Python 3 (ipykernel)",
   "language": "python",
   "name": "python3"
  },
  "language_info": {
   "codemirror_mode": {
    "name": "ipython",
    "version": 3
   },
   "file_extension": ".py",
   "mimetype": "text/x-python",
   "name": "python",
   "nbconvert_exporter": "python",
   "pygments_lexer": "ipython3",
   "version": "3.10.8"
  }
 },
 "nbformat": 4,
 "nbformat_minor": 5
}
